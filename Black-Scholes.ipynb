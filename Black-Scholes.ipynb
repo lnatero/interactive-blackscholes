{
 "cells": [
  {
   "cell_type": "code",
   "execution_count": null,
   "id": "33b71d50",
   "metadata": {},
   "outputs": [],
   "source": [
    "!pip install ipywidgets widgetsnbextension ipympl notebook\n",
    "import ipympl\n",
    "%matplotlib widget\n",
    "%gui asyncio\n",
    "import ipywidgets as widgets\n",
    "import matplotlib.pyplot as plt\n",
    "import numpy as np;"
   ]
  },
  {
   "cell_type": "code",
   "execution_count": 44,
   "id": "8c743d65",
   "metadata": {},
   "outputs": [],
   "source": [
    "%gui asyncio"
   ]
  },
  {
   "cell_type": "markdown",
   "id": "6729c2de",
   "metadata": {},
   "source": [
    "# Cambio del valor de la opción \"Call\" (de compra)"
   ]
  },
  {
   "cell_type": "code",
   "execution_count": 22,
   "id": "6db4b3c0",
   "metadata": {},
   "outputs": [
    {
     "data": {
      "application/vnd.jupyter.widget-view+json": {
       "model_id": "093271d2eaa848d1a10a7cb2871b78a4",
       "version_major": 2,
       "version_minor": 0
      },
      "text/plain": [
       "Dropdown(description='Tipo:', layout=Layout(width='max-content'), options=('Put', 'Call', 'Put 3D', 'Call 3D',…"
      ]
     },
     "metadata": {},
     "output_type": "display_data"
    }
   ],
   "source": [
    "tipo_gráfico = widgets.Dropdown(\n",
    "    description='Tipo:',\n",
    "    layout={'width': 'max-content'},\n",
    "    options=[\n",
    "        \"Put\",\n",
    "        \"Call\",\n",
    "        \"Put 3D\",\n",
    "        \"Call 3D\",\n",
    "        \"Straddle\",\n",
    "        \"Strangle\",\n",
    "        ])\n",
    "display(tipo_gráfico)"
   ]
  },
  {
   "cell_type": "code",
   "execution_count": 43,
   "id": "2d1df0b5",
   "metadata": {},
   "outputs": [
    {
     "data": {
      "application/vnd.jupyter.widget-view+json": {
       "model_id": "b2dfbb877e3c49f4a8009c0c85a1d3ec",
       "version_major": 2,
       "version_minor": 0
      },
      "text/plain": [
       "GridBox(children=(FloatSlider(value=35.0, description='\\\\(\\\\sigma\\\\)', readout_format='.1f'), FloatSlider(valu…"
      ]
     },
     "execution_count": 43,
     "metadata": {},
     "output_type": "execute_result"
    }
   ],
   "source": [
    "sigma = widgets.FloatSlider(\n",
    "    value=35,\n",
    "    min=0,\n",
    "    max=100.0,\n",
    "    step=0.1,\n",
    "    description=r'\\(\\sigma\\)',\n",
    "    disabled=False,\n",
    "    continuous_update=True,\n",
    "    orientation='horizontal',\n",
    "    readout=True,\n",
    "    readout_format='.1f',\n",
    ")\n",
    "S_min = widgets.BoundedFloatText(\n",
    "    value=0.0,\n",
    "    min=0.0,\n",
    "    max=100.0,\n",
    "    step=0.1,\n",
    "    description=r'\\(S_{min}\\)',\n",
    "    disabled=False,\n",
    "    continuous_update=True,\n",
    "    readout_format='.1f',\n",
    ")\n",
    "S_max = widgets.BoundedFloatText(\n",
    "    value=100.0,\n",
    "    min=0.0,\n",
    "    max=100.0,\n",
    "    step=0.1,\n",
    "    description=r'\\(S_{max}\\)',\n",
    "    disabled=False,\n",
    "    continuous_update=True,\n",
    "    readout_format='.1f',\n",
    ")\n",
    "\n",
    "E = widgets.BoundedFloatText(\n",
    "    value=50.0,\n",
    "    min=0.0,\n",
    "    max=100.0,\n",
    "    step=0.1,\n",
    "    description=r'\\(E_T\\)',\n",
    "    disabled=False,\n",
    "    continuous_update=True,\n",
    "    readout_format='.1f',\n",
    ")\n",
    "\n",
    "r_f = widgets.FloatSlider(\n",
    "    value=0.0,\n",
    "    min=-100.0,\n",
    "    max=100.0,\n",
    "    step=0.1,\n",
    "    description=r'\\(r_f\\)',\n",
    "    disabled=False,\n",
    "    continuous_update=True,\n",
    "    orientation='horizontal',\n",
    "    readout=True,\n",
    "    readout_format='.1f',\n",
    ")\n",
    "\n",
    "E_min_link = widgets.jslink((S_min, 'value'), (E, 'min'))\n",
    "E_max_link = widgets.jslink((S_max, 'value'), (E, 'max'))\n",
    "# display(sigma, r_f, S_min, S_max, E)\n",
    "widgets.GridBox(\n",
    "    [sigma, r_f, S_min, S_max, E],\n",
    "    layout=widgets.Layout(\n",
    "        grid_template_columns=\"repeat(2, 250px)\",\n",
    "        grid_gap=\"10px 50px\",\n",
    "    )\n",
    ")"
   ]
  },
  {
   "cell_type": "code",
   "execution_count": null,
   "id": "5e8deda9",
   "metadata": {},
   "outputs": [],
   "source": []
  }
 ],
 "metadata": {
  "kernelspec": {
   "display_name": "Python 3",
   "language": "python",
   "name": "python3"
  },
  "language_info": {
   "codemirror_mode": {
    "name": "ipython",
    "version": 3
   },
   "file_extension": ".py",
   "mimetype": "text/x-python",
   "name": "python",
   "nbconvert_exporter": "python",
   "pygments_lexer": "ipython3",
   "version": "3.11.9"
  }
 },
 "nbformat": 4,
 "nbformat_minor": 5
}
