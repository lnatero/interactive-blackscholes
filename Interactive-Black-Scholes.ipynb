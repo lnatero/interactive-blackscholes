{
 "cells": [
  {
   "cell_type": "markdown",
   "id": "045b0231",
   "metadata": {},
   "source": [
    "# Instrucciones\n",
    "Apretar 'Run' > 'Run All Cells', para ejecutar el código.\n",
    "\n",
    "Luego al final de la página se encuentra el gráfico interactivo."
   ]
  },
  {
   "cell_type": "code",
   "execution_count": 1,
   "id": "33b71d50",
   "metadata": {},
   "outputs": [],
   "source": [
    "import ipympl\n",
    "%matplotlib widget\n",
    "import ipywidgets as widgets\n",
    "import matplotlib.pyplot as plt\n",
    "import numpy as np;\n",
    "import blackscholes as bs\n",
    "from IPython.display import display, clear_output\n",
    "import plotly.graph_objs as go"
   ]
  },
  {
   "cell_type": "code",
   "execution_count": 2,
   "id": "6db4b3c0",
   "metadata": {},
   "outputs": [],
   "source": [
    "tipo_grafico = widgets.Dropdown(\n",
    "    description='Tipo:',\n",
    "    layout={'width': 'max-content'},\n",
    "    options=[\n",
    "        \"Put\",\n",
    "        \"Call\",\n",
    "        \"Put 3D\",\n",
    "        \"Call 3D\",\n",
    "        # \"Put 3D (Interactivo)\",\n",
    "        # \"Call 3D (Interactivo)\",\n",
    "        # \"Straddle\",\n",
    "        # \"Strangle\",\n",
    "        ])"
   ]
  },
  {
   "cell_type": "code",
   "execution_count": 3,
   "id": "2d1df0b5",
   "metadata": {},
   "outputs": [],
   "source": [
    "sigma_widget = widgets.FloatSlider(\n",
    "    value=35,\n",
    "    min=0,\n",
    "    max=100.0,\n",
    "    step=0.1,\n",
    "    description=r'\\(\\sigma\\)',\n",
    "    disabled=False,\n",
    "    continuous_update=True,\n",
    "    orientation='horizontal',\n",
    "    readout=True,\n",
    "    readout_format='.1f',\n",
    ")\n",
    "S_min = widgets.BoundedFloatText(\n",
    "    value=80.0,\n",
    "    min=0.0,\n",
    "    max=1000.0,\n",
    "    step=0.1,\n",
    "    description=r'\\(S_{min}\\)',\n",
    "    disabled=False,\n",
    "    continuous_update=True,\n",
    "    readout_format='.1f',\n",
    ")\n",
    "S_max = widgets.BoundedFloatText(\n",
    "    value=120.0,\n",
    "    min=0.0,\n",
    "    max=1000.0,\n",
    "    step=0.1,\n",
    "    description=r'\\(S_{max}\\)',\n",
    "    disabled=False,\n",
    "    continuous_update=True,\n",
    "    readout_format='.1f',\n",
    ")\n",
    "\n",
    "E = widgets.BoundedFloatText(\n",
    "    value=100.0,\n",
    "    min=0.0,\n",
    "    max=100.0,\n",
    "    step=0.1,\n",
    "    description=r'\\(E_T\\)',\n",
    "    disabled=False,\n",
    "    continuous_update=True,\n",
    "    readout_format='.1f',\n",
    ")\n",
    "\n",
    "r_free = widgets.FloatSlider(\n",
    "    value=3.5,\n",
    "    min=0.0,\n",
    "    max=100.0,\n",
    "    step=0.1,\n",
    "    description=r'\\(r_f\\)',\n",
    "    disabled=False,\n",
    "    continuous_update=True,\n",
    "    orientation='horizontal',\n",
    "    readout=True,\n",
    "    readout_format='.1f',\n",
    ")"
   ]
  },
  {
   "cell_type": "code",
   "execution_count": 4,
   "id": "d15a0c6a",
   "metadata": {},
   "outputs": [],
   "source": [
    "def plotting(r_f, sigma, s_min, s_max, E, tipo):\n",
    "    S_T = E     # Strike price\n",
    "    sigma = sigma_widget.value/100  # 15% Volatility\n",
    "    q = 0.0       # 0% Annual Dividend Yield\n",
    "    r_f = r_f/100\n",
    "\n",
    "    S_range = np.linspace(s_min+0.001, s_max, 100)  # Range of asset prices\n",
    "    T_values = [0.05, 0.25, 0.5, 1.0]  # Different times to maturity\n",
    "    if tipo == \"Put\":\n",
    "        plt.figure(figsize=(6, 4))\n",
    "\n",
    "        for T in T_values:\n",
    "            put_prices = []\n",
    "            for S in S_range:\n",
    "                put = bs.BlackScholesPut(S, S_T, T, r_f, sigma, q)\n",
    "                put_prices.append(put.price())\n",
    "            plt.plot(S_range, put_prices, label=f'T = {T}')\n",
    "        intrinsic_values = np.maximum(S_T - S_range, 0)\n",
    "        plt.plot(S_range, intrinsic_values, 'k--', label='Valor intrínsico')\n",
    "        plt.xlabel('Asset Price (S)')\n",
    "        plt.ylabel('Put Option Price')\n",
    "        plt.title('Put Option Price vs Asset Price for Different Times to Maturity')\n",
    "        plt.legend()\n",
    "        plt.grid(True)\n",
    "        plt.show()\n",
    "    elif tipo == \"Call\":\n",
    "        plt.figure(figsize=(6, 4))\n",
    "\n",
    "        for T in T_values:\n",
    "            call_prices = []\n",
    "            for S in S_range:\n",
    "                call = bs.BlackScholesCall(S, S_T, T, r_f, sigma, q)\n",
    "                call_prices.append(call.price())\n",
    "            plt.plot(S_range, call_prices, label=f'T = {T}')\n",
    "        intrinsic_values = np.maximum(S_range - S_T, 0)\n",
    "        plt.plot(S_range, intrinsic_values, 'k--', label='Valor intrínsico')\n",
    "        plt.xlabel('Asset Price (S)')\n",
    "        plt.ylabel('Call Option Price')\n",
    "        plt.title('Call Option Price vs Asset Price for Different Times to Maturity')\n",
    "        plt.legend()\n",
    "        plt.grid(True)\n",
    "        plt.show()\n",
    "    elif tipo == \"Put 3D\":\n",
    "        T_values.insert(0, 0.0001)\n",
    "        S_grid, T_grid = np.meshgrid(S_range, T_values)\n",
    "        P_grid = np.zeros_like(S_grid)\n",
    "        \n",
    "        for i in range(S_grid.shape[0]):\n",
    "            for j in range(S_grid.shape[1]):\n",
    "                S = S_grid[i, j]\n",
    "                T = T_grid[i, j]\n",
    "                put = bs.BlackScholesPut(S, S_T, T, r_f, sigma, q)\n",
    "                P_grid[i, j] = put.price()\n",
    "        \n",
    "        fig = go.Figure(data=[go.Surface(z=P_grid, x=S_grid, y=T_grid, colorscale='Viridis')])\n",
    "        fig.update_layout(\n",
    "            title='Superficie de Precio de Opción Put (Interactivo)',\n",
    "            scene=dict(\n",
    "                xaxis_title='Precio del Activo (S)',\n",
    "                yaxis_title='Tiempo al Vencimiento (T)',\n",
    "                zaxis_title='Precio Opción Put'\n",
    "            ),\n",
    "            width=600,\n",
    "            height=600\n",
    "        )\n",
    "        fig.show()\n",
    "    elif tipo == \"Call 3D\":     \n",
    "        T_values.insert(0, 0.0001)\n",
    "        S_grid, T_grid = np.meshgrid(S_range, T_values)\n",
    "        C_grid = np.zeros_like(S_grid)\n",
    "        \n",
    "        \n",
    "        for i in range(S_grid.shape[0]):\n",
    "            for j in range(S_grid.shape[1]):\n",
    "                S = S_grid[i, j]\n",
    "                T = T_grid[i, j]\n",
    "                call = bs.BlackScholesCall(S, S_T, T, r_f, sigma, q)\n",
    "                C_grid[i, j] = call.price()\n",
    "        \n",
    "        fig = go.Figure(data=[go.Surface(z=C_grid, x=S_grid, y=T_grid, colorscale='Viridis')])\n",
    "        fig.update_layout(\n",
    "            title='Superficie de Precio de Opción Call (Interactivo)',\n",
    "            scene=dict(\n",
    "                xaxis_title='Precio del Activo (S)',\n",
    "                yaxis_title='Tiempo al Vencimiento (T)',\n",
    "                zaxis_title='Precio Opción Call'\n",
    "            ),\n",
    "            width=500,\n",
    "            height=500\n",
    "        )\n",
    "        fig.show()\n"
   ]
  },
  {
   "cell_type": "code",
   "execution_count": 5,
   "id": "8d41bd6c-3c2a-4249-a5a4-d6188140c6ee",
   "metadata": {},
   "outputs": [],
   "source": [
    "plot_output = widgets.Output()\n",
    "plot_output.layout.height = \"800px\"  # Set consistent height\n",
    "update_button = widgets.Button(description=\"Actualizar gráfico\", button_style='primary')\n",
    "\n",
    "def on_update_button_clicked(b):\n",
    "    with plot_output:\n",
    "        clear_output(wait=True)\n",
    "        plotting(\n",
    "            r_f=r_free.value,\n",
    "            sigma=sigma_widget.value,\n",
    "            s_min=S_min.value,\n",
    "            s_max=S_max.value,\n",
    "            E=E.value,\n",
    "            tipo=tipo_grafico.value\n",
    "        )\n",
    "\n",
    "update_button.on_click(on_update_button_clicked)\n",
    "button_box = widgets.HBox([update_button])\n",
    "button_box.layout.justify_content = 'center'"
   ]
  },
  {
   "cell_type": "code",
   "execution_count": 6,
   "id": "69de494a-63e9-4c89-b143-74b9d5d5c0a2",
   "metadata": {},
   "outputs": [],
   "source": [
    "controls = widgets.GridBox(\n",
    "    [sigma_widget, r_free, S_min, S_max, E, tipo_grafico],\n",
    "    layout=widgets.Layout(\n",
    "        grid_template_columns=\"repeat(2, 250px)\",\n",
    "        grid_gap=\"10px 50px\",\n",
    "    )\n",
    ")"
   ]
  },
  {
   "cell_type": "code",
   "execution_count": 7,
   "id": "ba77dcf0-0057-4a7c-8c36-4778a59661b5",
   "metadata": {},
   "outputs": [
    {
     "data": {
      "application/vnd.jupyter.widget-view+json": {
       "model_id": "287234c56c8643939429e0efa8af4687",
       "version_major": 2,
       "version_minor": 0
      },
      "text/plain": [
       "GridBox(children=(FloatSlider(value=35.0, description='\\\\(\\\\sigma\\\\)', readout_format='.1f'), FloatSlider(valu…"
      ]
     },
     "metadata": {},
     "output_type": "display_data"
    },
    {
     "data": {
      "application/vnd.jupyter.widget-view+json": {
       "model_id": "d84a9e436ece4e88a12e9f3e04ead931",
       "version_major": 2,
       "version_minor": 0
      },
      "text/plain": [
       "HBox(children=(Button(button_style='primary', description='Actualizar gráfico', style=ButtonStyle()),), layout…"
      ]
     },
     "metadata": {},
     "output_type": "display_data"
    },
    {
     "data": {
      "application/vnd.jupyter.widget-view+json": {
       "model_id": "4ade980683224eec82bec58122e8bea4",
       "version_major": 2,
       "version_minor": 0
      },
      "text/plain": [
       "Output(layout=Layout(height='800px'))"
      ]
     },
     "metadata": {},
     "output_type": "display_data"
    },
    {
     "name": "stdout",
     "output_type": "stream",
     "text": [
      "CPU times: total: 0 ns\n",
      "Wall time: 13 ms\n"
     ]
    }
   ],
   "source": [
    "%%time\n",
    "display(controls, button_box, plot_output)"
   ]
  }
 ],
 "metadata": {
  "kernelspec": {
   "display_name": "3.11.9",
   "language": "python",
   "name": "python3"
  },
  "language_info": {
   "codemirror_mode": {
    "name": "ipython",
    "version": 3
   },
   "file_extension": ".py",
   "mimetype": "text/x-python",
   "name": "python",
   "nbconvert_exporter": "python",
   "pygments_lexer": "ipython3",
   "version": "3.11.9"
  }
 },
 "nbformat": 4,
 "nbformat_minor": 5
}
