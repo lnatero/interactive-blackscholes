{
 "cells": [
  {
   "cell_type": "code",
   "execution_count": 19,
   "id": "33b71d50",
   "metadata": {},
   "outputs": [],
   "source": [
    "import ipympl\n",
    "%matplotlib widget\n",
    "import ipywidgets as widgets\n",
    "import matplotlib.pyplot as plt\n",
    "import numpy as np;\n",
    "import blackscholes as bs\n",
    "from IPython.display import display, clear_output"
   ]
  },
  {
   "cell_type": "markdown",
   "id": "6729c2de",
   "metadata": {},
   "source": [
    "# Cambio del valor de la opción \"Call\""
   ]
  },
  {
   "cell_type": "code",
   "execution_count": 20,
   "id": "6db4b3c0",
   "metadata": {},
   "outputs": [
    {
     "data": {
      "application/vnd.jupyter.widget-view+json": {
       "model_id": "27882cfeb3eb481c9801073e0c6183c3",
       "version_major": 2,
       "version_minor": 0
      },
      "text/plain": [
       "Dropdown(description='Tipo:', layout=Layout(width='max-content'), options=('Put', 'Call', 'Put 3D', 'Call 3D',…"
      ]
     },
     "metadata": {},
     "output_type": "display_data"
    }
   ],
   "source": [
    "tipo_gráfico = widgets.Dropdown(\n",
    "    description='Tipo:',\n",
    "    layout={'width': 'max-content'},\n",
    "    options=[\n",
    "        \"Put\",\n",
    "        \"Call\",\n",
    "        \"Put 3D\",\n",
    "        \"Call 3D\",\n",
    "        \"Straddle\",\n",
    "        \"Strangle\",\n",
    "        ])\n",
    "display(tipo_gráfico)"
   ]
  },
  {
   "cell_type": "code",
   "execution_count": 21,
   "id": "2d1df0b5",
   "metadata": {},
   "outputs": [
    {
     "data": {
      "application/vnd.jupyter.widget-view+json": {
       "model_id": "80fbd195b2d0450dae273614352908c3",
       "version_major": 2,
       "version_minor": 0
      },
      "text/plain": [
       "GridBox(children=(FloatSlider(value=35.0, description='\\\\(\\\\sigma\\\\)', readout_format='.1f'), FloatSlider(valu…"
      ]
     },
     "execution_count": 21,
     "metadata": {},
     "output_type": "execute_result"
    }
   ],
   "source": [
    "sigma_widget = widgets.FloatSlider(\n",
    "    value=35,\n",
    "    min=0,\n",
    "    max=100.0,\n",
    "    step=0.1,\n",
    "    description=r'\\(\\sigma\\)',\n",
    "    disabled=False,\n",
    "    continuous_update=True,\n",
    "    orientation='horizontal',\n",
    "    readout=True,\n",
    "    readout_format='.1f',\n",
    ")\n",
    "S_min = widgets.BoundedFloatText(\n",
    "    value=10.0,\n",
    "    min=0.0,\n",
    "    max=100.0,\n",
    "    step=0.1,\n",
    "    description=r'\\(S_{min}\\)',\n",
    "    disabled=False,\n",
    "    continuous_update=True,\n",
    "    readout_format='.1f',\n",
    ")\n",
    "S_max = widgets.BoundedFloatText(\n",
    "    value=100.0,\n",
    "    min=0.0,\n",
    "    max=100.0,\n",
    "    step=0.1,\n",
    "    description=r'\\(S_{max}\\)',\n",
    "    disabled=False,\n",
    "    continuous_update=True,\n",
    "    readout_format='.1f',\n",
    ")\n",
    "\n",
    "E = widgets.BoundedFloatText(\n",
    "    value=50.0,\n",
    "    min=0.0,\n",
    "    max=100.0,\n",
    "    step=0.1,\n",
    "    description=r'\\(E_T\\)',\n",
    "    disabled=False,\n",
    "    continuous_update=True,\n",
    "    readout_format='.1f',\n",
    ")\n",
    "\n",
    "r_free = widgets.FloatSlider(\n",
    "    value=0.035,\n",
    "    min=0.0,\n",
    "    max=100.0,\n",
    "    step=0.1,\n",
    "    description=r'\\(r_f\\)',\n",
    "    disabled=False,\n",
    "    continuous_update=True,\n",
    "    orientation='horizontal',\n",
    "    readout=True,\n",
    "    readout_format='.1f',\n",
    ")\n",
    "\n",
    "E_min_link = widgets.jslink((S_min, 'value'), (E, 'min'))\n",
    "E_max_link = widgets.jslink((S_max, 'value'), (E, 'max'))\n",
    "# display(sigma, r_f, S_min, S_max, E)\n",
    "widgets.GridBox(\n",
    "    [sigma_widget, r_free, S_min, S_max, E],\n",
    "    layout=widgets.Layout(\n",
    "        grid_template_columns=\"repeat(2, 250px)\",\n",
    "        grid_gap=\"10px 50px\",\n",
    "    )\n",
    ")"
   ]
  },
  {
   "cell_type": "code",
   "execution_count": 27,
   "id": "d15a0c6a",
   "metadata": {},
   "outputs": [],
   "source": [
    "def plotting(r_f, sigma, s_min, s_max, E, tipo):\n",
    "    if tipo == \"Put\":\n",
    "        S_T = E     # Strike price\n",
    "        sigma = sigma_widget.value/100  # 15% Volatility\n",
    "        q = 0.0       # 0% Annual Dividend Yield\n",
    "\n",
    "        S_range = np.linspace(s_min+0.001, s_max, 100)  # Range of asset prices\n",
    "        T_values = [0.000001, 0.05, 0.25, 0.5, 1.0]  # Different times to maturity\n",
    "\n",
    "        plt.figure(figsize=(8, 6))\n",
    "\n",
    "        for T in T_values:\n",
    "            put_prices = []\n",
    "            for S in S_range:\n",
    "                put = bs.BlackScholesPut(S, S_T, T, r_f, sigma, q)\n",
    "                put_prices.append(put.price())\n",
    "            plt.plot(S_range, put_prices, label=f'T = {T}')\n",
    "\n",
    "        plt.xlabel('Asset Price (S)')\n",
    "        plt.ylabel('Put Option Price')\n",
    "        plt.title('Put Option Price vs Asset Price for Different Times to Maturity')\n",
    "        plt.legend()\n",
    "        plt.grid(True)\n",
    "        plt.show()\n",
    "    elif tipo == \"Call\":\n",
    "        pass\n"
   ]
  },
  {
   "cell_type": "code",
   "execution_count": null,
   "id": "f788d529",
   "metadata": {},
   "outputs": [
    {
     "data": {
      "application/vnd.jupyter.widget-view+json": {
       "model_id": "2e08c12d04f54ef7a3be2636e34b342b",
       "version_major": 2,
       "version_minor": 0
      },
      "text/plain": [
       "interactive(children=(FloatSlider(value=46.0, description='\\\\(r_f\\\\)', readout_format='.1f'), FloatSlider(valu…"
      ]
     },
     "metadata": {},
     "output_type": "display_data"
    },
    {
     "data": {
      "text/plain": [
       "<function __main__.plotting(r_f, sigma, s_min, s_max, E, tipo)>"
      ]
     },
     "execution_count": 28,
     "metadata": {},
     "output_type": "execute_result"
    }
   ],
   "source": [
    "widgets.interact(plotting, \n",
    "    r_f=r_free, sigma=sigma_widget.value, s_min=S_min.value, s_max=S_max.value, E=E.value, tipo=tipo_gráfico)"
   ]
  },
  {
   "cell_type": "code",
   "execution_count": null,
   "id": "5e8deda9",
   "metadata": {},
   "outputs": [],
   "source": []
  }
 ],
 "metadata": {
  "kernelspec": {
   "display_name": "Python 3",
   "language": "python",
   "name": "python3"
  },
  "language_info": {
   "codemirror_mode": {
    "name": "ipython",
    "version": 3
   },
   "file_extension": ".py",
   "mimetype": "text/x-python",
   "name": "python",
   "nbconvert_exporter": "python",
   "pygments_lexer": "ipython3",
   "version": "3.11.9"
  }
 },
 "nbformat": 4,
 "nbformat_minor": 5
}
